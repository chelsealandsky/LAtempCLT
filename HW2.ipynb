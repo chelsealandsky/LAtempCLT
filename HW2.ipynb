{
 "cells": [
  {
   "cell_type": "code",
   "execution_count": 2,
   "id": "df160db4",
   "metadata": {},
   "outputs": [],
   "source": [
    "#import libraries\n",
    "import pandas as pd\n",
    "import numpy as np\n",
    "import matplotlib.pyplot as plt"
   ]
  },
  {
   "cell_type": "code",
   "execution_count": 3,
   "id": "e882321e",
   "metadata": {},
   "outputs": [
    {
     "data": {
      "text/plain": [
       "array([[1878.        ,   55.2       ,   55.3       , ...,   64.6       ,\n",
       "          59.2       ,   54.6       ],\n",
       "       [1879.        ,   52.2       ,   56.        , ...,   65.3       ,\n",
       "          56.6       ,   53.        ],\n",
       "       [1880.        ,   52.9       ,   50.8       , ...,   63.4       ,\n",
       "          56.1       ,   56.3       ],\n",
       "       ...,\n",
       "       [2019.        ,   57.9       ,   54.        , ...,   72.        ,\n",
       "          64.9       ,   59.4       ],\n",
       "       [2020.        ,   60.9       ,   62.6       , ...,   73.        ,\n",
       "          62.8       ,   60.        ],\n",
       "       [          nan,           nan,           nan, ...,   68.10140845,\n",
       "          63.04366197,   58.32253521]])"
      ]
     },
     "execution_count": 3,
     "metadata": {},
     "output_type": "execute_result"
    }
   ],
   "source": [
    "#read the data as array \n",
    "df = pd.read_excel(\"LAmeantempdata.xlsx\")\n",
    "data=df.to_numpy()\n",
    "data"
   ]
  },
  {
   "cell_type": "code",
   "execution_count": 4,
   "id": "ad54153a",
   "metadata": {},
   "outputs": [
    {
     "name": "stdout",
     "output_type": "stream",
     "text": [
      "mean Los Angeles July temp is 72.31 deg F\n",
      "standard deviation is 2.7 deg F\n"
     ]
    }
   ],
   "source": [
    "july=data[:,7]\n",
    "N=10\n",
    "#K=1000\n",
    "#increase K to 10,000 to make it closer to Gaussian\n",
    "K=10000\n",
    "mu=np.mean(july)\n",
    "sig=np.std(july)\n",
    "print('mean Los Angeles July temp is '+str(mu.round(2))+' deg F')\n",
    "print('standard deviation is '+str(sig.round(2))+' deg F')"
   ]
  },
  {
   "cell_type": "code",
   "execution_count": 5,
   "id": "e8f4a588",
   "metadata": {},
   "outputs": [],
   "source": [
    "#repeat random sampling \n",
    "M=np.zeros(K)\n",
    "for n in range(0,K):\n",
    "    data=np.random.choice(july,10,replace=False)\n",
    "    M[n]=np.mean(data)"
   ]
  },
  {
   "cell_type": "code",
   "execution_count": 6,
   "id": "22e1a14f",
   "metadata": {},
   "outputs": [
    {
     "name": "stdout",
     "output_type": "stream",
     "text": [
      "Mean of sample mean is 72.31deg F\n"
     ]
    }
   ],
   "source": [
    "#population mean\n",
    "Mmean=np.mean(M)\n",
    "print('Mean of sample mean is '+str(Mmean.round(2))+'deg F')"
   ]
  },
  {
   "cell_type": "code",
   "execution_count": 7,
   "id": "f2251fd9",
   "metadata": {},
   "outputs": [
    {
     "name": "stdout",
     "output_type": "stream",
     "text": [
      "std of sample mean is 0.85 deg F\n",
      "sigma/sqrt(N) is 0.85 deg F\n"
     ]
    }
   ],
   "source": [
    "#standard error (standard deviation of sample mean)\n",
    "Mstd=np.std(M)\n",
    "SE = sig/np.sqrt(N)\n",
    "print('std of sample mean is '+str(Mstd.round(2))+' deg F')\n",
    "#sigma/sqrt(N)\n",
    "print('sigma/sqrt(N) is '+str(SE.round(2))+' deg F')"
   ]
  },
  {
   "cell_type": "code",
   "execution_count": 8,
   "id": "eb9d7252",
   "metadata": {},
   "outputs": [
    {
     "data": {
      "image/png": "[encoded data removed]",
      "text/plain": [
       "<Figure size 432x288 with 1 Axes>"
      ]
     },
     "metadata": {
      "needs_background": "light"
     },
     "output_type": "display_data"
    }
   ],
   "source": [
    "#box plot\n",
    "bins=np.arange(np.min(M),np.max(M),0.1)\n",
    "plt.hist(M,bins)\n",
    "plt.xlabel(' Los Angeles July temperature, deg F')\n",
    "plt.ylabel('frequency');\n",
    "plt.show()"
   ]
  },
  {
   "cell_type": "code",
   "execution_count": 9,
   "id": "b8c77c83",
   "metadata": {},
   "outputs": [
    {
     "data": {
      "image/png": "[encoded data removed]",
      "text/plain": [
       "<Figure size 432x288 with 1 Axes>"
      ]
     },
     "metadata": {
      "needs_background": "light"
     },
     "output_type": "display_data"
    }
   ],
   "source": [
    "#gaussian overlay\n",
    "plt.hist(M,bins)\n",
    "x=bins\n",
    "f=K*0.1/np.sqrt(2*np.pi)/SE*np.exp(-0.5*((x-mu)/SE)**2)\n",
    "plt.plot(x,f)\n",
    "plt.xlabel('Los Angeles July temperature, deg F')\n",
    "plt.ylabel('frequency');"
   ]
  },
  {
   "cell_type": "code",
   "execution_count": 10,
   "id": "4127da96",
   "metadata": {},
   "outputs": [
    {
     "name": "stdout",
     "output_type": "stream",
     "text": [
      "95 percentile temp is 73.72 deg F\n"
     ]
    }
   ],
   "source": [
    "#calcualte 95 percentile\n",
    "t95=np.percentile(M,95)\n",
    "print('95 percentile temp is '+str(t95.round(2))+' deg F')"
   ]
  },
  {
   "cell_type": "code",
   "execution_count": 11,
   "id": "286e322b",
   "metadata": {},
   "outputs": [
    {
     "name": "stdout",
     "output_type": "stream",
     "text": [
      "99 percentile temp is 74.35 deg F\n"
     ]
    }
   ],
   "source": [
    "#calculate 99 percentile\n",
    "t99=np.percentile(M,99)\n",
    "print('99 percentile temp is '+str(t99.round(2))+' deg F')"
   ]
  },
  {
   "cell_type": "code",
   "execution_count": 12,
   "id": "69620d12",
   "metadata": {},
   "outputs": [
    {
     "name": "stdout",
     "output_type": "stream",
     "text": [
      "Last 10 year mean July temp is 74.14 deg F\n"
     ]
    }
   ],
   "source": [
    "#last N years mean\n",
    "tN=np.mean(july[-10:])\n",
    "print('Last 10 year mean July temp is '+str(tN.round(2))+' deg F')"
   ]
  },
  {
   "cell_type": "code",
   "execution_count": 13,
   "id": "4a5dcf14",
   "metadata": {},
   "outputs": [
    {
     "data": {
      "text/plain": [
       "True"
      ]
     },
     "execution_count": 13,
     "metadata": {},
     "output_type": "execute_result"
    }
   ],
   "source": [
    "#compare to 95 percentile \n",
    "tN>t95"
   ]
  },
  {
   "cell_type": "code",
   "execution_count": 15,
   "id": "301ca401",
   "metadata": {},
   "outputs": [
    {
     "data": {
      "text/plain": [
       "False"
      ]
     },
     "execution_count": 15,
     "metadata": {},
     "output_type": "execute_result"
    }
   ],
   "source": [
    "#compare to 99 percentile\n",
    "tN>t99"
   ]
  },
  {
   "cell_type": "code",
   "execution_count": null,
   "id": "db4ee6e9",
   "metadata": {},
   "outputs": [],
   "source": []
  }
 ],
 "metadata": {
  "kernelspec": {
   "display_name": "Python 3",
   "language": "python",
   "name": "python3"
  },
  "language_info": {
   "codemirror_mode": {
    "name": "ipython",
    "version": 3
   },
   "file_extension": ".py",
   "mimetype": "text/x-python",
   "name": "python",
   "nbconvert_exporter": "python",
   "pygments_lexer": "ipython3",
   "version": "3.8.8"
  }
 },
 "nbformat": 4,
 "nbformat_minor": 5
}
